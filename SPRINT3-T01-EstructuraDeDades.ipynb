{
 "cells": [
  {
   "cell_type": "markdown",
   "id": "9c2ce2aa",
   "metadata": {},
   "source": [
    "# S03 T01: Estructura de dades\n",
    "\n",
    "**Descripció**  \n",
    "Comencem a familiaritzar-nos amb les estructures de dades de Python\n",
    "\n",
    "**Nivell 1**\n",
    "  - **_Exercici 1_**  \n",
    "        Crea una llista que agrupi els mesos de l’any en trimestres (1T: Gener, Febrer i Març, 2T: Abril, Maig, Juny...), és a dir, una llista amb 4 llistes dins.\n",
    "\n",
    "  - **_Exercici 2_**\n",
    "        Crea un codi que et permeti accedir a:   \n",
    "        El segon mes del primer trimestre\n",
    "        Els mesos del primer trimestre\n",
    "        Setembre i octubre\n",
    "        \n",
    "  - **_Exercici 3_**  \n",
    "        Crea una llista amb nombres desordenats i respon a les següents preguntes: \n",
    "        \n",
    "        - Quants números hi ha?\n",
    "        - Quantes vegades apareix el número 3\n",
    "        - Quantes vegades apareixen els nombres 3 i 4?\n",
    "        - Quin és el número més gran?\n",
    "        - Quins són els 3 números més petits?\n",
    "        - Quin és el rang d’aquesta llista?  \n",
    "        \n",
    "  - **_Exercici 4_**  \n",
    "        Crea un diccionari de la següent forma i respon a les preguntes:  \n",
    "        compra = { \"Pomes\" : {\"Qty\": 5, \"€\": 0.42}, \"Peres\" : {\"Qty\": 3, \"€\": 0.66} }\n",
    "        \n",
    "        - Afegeix alguna fruita més\n",
    "        - Quant han costat les peres en total?\n",
    "        - Quantes fruites hem comprat en total?\n",
    "        - Quina és la fruita més cara?"
   ]
  },
  {
   "cell_type": "markdown",
   "id": "aba087fd",
   "metadata": {},
   "source": [
    "## 1 **Level 1**\n",
    "  ### 1.1 **_Exercice 1_**  \n",
    "      \n",
    "  I will creat a list to group the month of the year in 4 quarters:\n",
    "  First I will creat  4 lists, one for each quarter with the months of each one of them\n",
    "  Second a list with that includes the 4 quarters"
   ]
  },
  {
   "cell_type": "code",
   "execution_count": 3,
   "id": "50a30ca0",
   "metadata": {},
   "outputs": [
    {
     "name": "stdout",
     "output_type": "stream",
     "text": [
      "[['January', 'February', 'March'], ['April', 'May', 'June'], ['July', 'August', 'September'], ['October', 'November', 'December']]\n"
     ]
    }
   ],
   "source": [
    "q1 =[\"January\", \"February\", \"March\"]\n",
    "q2 =[\"April\", \"May\", \"June\"]\n",
    "q3 =[\"July\", \"August\", \"September\"]\n",
    "q4 =[\"October\", \"November\", \"December\"]\n",
    "yearQuarters = [q1, q2, q3, q4]\n",
    "print(yearQuarters)"
   ]
  },
  {
   "cell_type": "markdown",
   "id": "ce4167d3",
   "metadata": {},
   "source": [
    "We see when I printed it that it worked! iuju! 👌"
   ]
  },
  {
   "cell_type": "markdown",
   "id": "70a5eaa4",
   "metadata": {},
   "source": [
    "### 1.2 **_Exercice 2_**  \n",
    "I want to check several things of my list. To acces to different items of the list of the list, Python allow to access throug its item index. To do so, I just put in a row the different items index, fom out to in, that I want to acces\n",
    "\n",
    "  - Print the second month of the 1st quarter:"
   ]
  },
  {
   "cell_type": "code",
   "execution_count": 11,
   "id": "92d98df7",
   "metadata": {},
   "outputs": [
    {
     "name": "stdout",
     "output_type": "stream",
     "text": [
      "February\n"
     ]
    }
   ],
   "source": [
    "print(yearQuarters[0][1]) \n",
    "#this give me acces to the first item [0] of the list yearsquarter and the second itmeof that memebre [1]\n"
   ]
  },
  {
   "cell_type": "markdown",
   "id": "cda2d584",
   "metadata": {},
   "source": [
    "We see that I have printed the second month of the first quarte!! iuju!\n",
    "\n",
    "- Acces the months of the first quarter:  \n",
    "    To do so, I will use two methods. First, just print the imte with index 0 of the year quarters list.\n",
    "    Second, I will do a for loop that access to each quarter, so items of the yearQuarter list, and then prints the firts month of each list"
   ]
  },
  {
   "cell_type": "code",
   "execution_count": 20,
   "id": "cd693f86",
   "metadata": {},
   "outputs": [
    {
     "name": "stdout",
     "output_type": "stream",
     "text": [
      "['January', 'February', 'March']\n",
      "January\n",
      "February\n",
      "March\n"
     ]
    }
   ],
   "source": [
    "print(yearQuarters[0])\n",
    "\n",
    "for i in yearQuarters[0]: #hereI get into yearQuarters item 0 (the first one)\n",
    "    print(i) #here I print all its items"
   ]
  },
  {
   "cell_type": "markdown",
   "id": "b7b32ed1",
   "metadata": {},
   "source": [
    "We can see I was able to print the months of each first quarter\n",
    "\n",
    "I also wanted to do:\n",
    "\n",
    "- Acces the first months of the quarter:  \n",
    "    To do so I will use a for loop that access to each quarter, so items of the yearQuarter list, and then prints the firts month of each list"
   ]
  },
  {
   "cell_type": "code",
   "execution_count": 17,
   "id": "75d8b53c",
   "metadata": {},
   "outputs": [
    {
     "name": "stdout",
     "output_type": "stream",
     "text": [
      "January\n",
      "April\n",
      "July\n",
      "October\n"
     ]
    }
   ],
   "source": [
    "for q in yearQuarters: #here I say, for each item of the yearQuarter list\n",
    "    print(q[0])#here I print the 1st item (index 0) of each item of the yearQuarter list\n",
    "    "
   ]
  },
  {
   "cell_type": "markdown",
   "id": "3381b381",
   "metadata": {},
   "source": [
    "I was also able to print the first month of each quarter! hurray!\n",
    "\n",
    "- Acces months September and October  \n",
    "To do so I will try to check if September and october are in the lists and print it."
   ]
  },
  {
   "cell_type": "code",
   "execution_count": 146,
   "id": "5aea725e",
   "metadata": {},
   "outputs": [
    {
     "name": "stdout",
     "output_type": "stream",
     "text": [
      "[['January', 'February', 'March'], ['April', 'May', 'June'], ['July', 'August', 'September'], ['October', 'November', 'December']]\n",
      "\n",
      "\n",
      "True\n",
      "hurray, is here!\n",
      "['July', 'August', 'September']\n",
      "\n",
      "\n",
      "\n",
      "\n",
      "hurray, is here!\n",
      "['October', 'November', 'December']\n"
     ]
    }
   ],
   "source": [
    "print(yearQuarters)\n",
    "\n",
    "for q in yearQuarters:\n",
    "    if \"September\" in q:\n",
    "        print(\"September\" in q)\n",
    "        print(\"hurray, is here!\")\n",
    "        print(q)\n",
    "    else:\n",
    "        print(\"\")\n",
    "        \n",
    "for q in yearQuarters:\n",
    "    if \"October\" in q:\n",
    "        print(\"hurray, is here!\")\n",
    "        print(q)\n",
    "    else:\n",
    "        print(\"\")\n",
    "    "
   ]
  },
  {
   "cell_type": "markdown",
   "id": "d5764fd4",
   "metadata": {},
   "source": [
    "While I was able to check separetley for September and October, I 'm still not able to check both at the same time. When I try to do the same with: if \"September\" or \"October\" in q: the ode give me a strange thing printing all the quarters saying is there..."
   ]
  },
  {
   "cell_type": "markdown",
   "id": "45d9b88d",
   "metadata": {},
   "source": [
    "### 1.3 **_Exercice 3_**  \n",
    "Creat A list ofunordered numbers an answer the following questions:  \n",
    "   - 1.3.1. How many numbers are there?   "
   ]
  },
  {
   "cell_type": "code",
   "execution_count": 61,
   "id": "d8d2b014",
   "metadata": {},
   "outputs": [
    {
     "name": "stdout",
     "output_type": "stream",
     "text": [
      "23\n"
     ]
    }
   ],
   "source": [
    "randomNumber = [2,4,1,5,10,7,24,12,34,78,61,12,10,3,5,4,3,24,12,34,78,61,12]\n",
    "print(len(randomNumber)) #number of list elements, its lenght"
   ]
  },
  {
   "cell_type": "markdown",
   "id": "b1869de8",
   "metadata": {},
   "source": [
    "- 1.3.2. How many times 3 appears? "
   ]
  },
  {
   "cell_type": "code",
   "execution_count": 77,
   "id": "a7c6898d",
   "metadata": {},
   "outputs": [
    {
     "name": "stdout",
     "output_type": "stream",
     "text": [
      "2\n"
     ]
    }
   ],
   "source": [
    "counter = 0\n",
    "for i in range(len(randomNumber)): #here we go throug the list\n",
    "    if randomNumber[i] == 3: #here we check if the list item is equal to 3\n",
    "        counter = counter + 1 #if it is equal to 3 we count 1\n",
    "\n",
    "print(counter) #we print how many we have"
   ]
  },
  {
   "cell_type": "markdown",
   "id": "4d3b2960",
   "metadata": {},
   "source": [
    "Correct! we have 2 number 3 in the list!!\n",
    "\n",
    "- 1.3.3. How many times 3 and 4 appears? "
   ]
  },
  {
   "cell_type": "code",
   "execution_count": 80,
   "id": "1611ae4a",
   "metadata": {},
   "outputs": [
    {
     "name": "stdout",
     "output_type": "stream",
     "text": [
      "we have 2 number 3\n",
      "we have 2 number 4\n"
     ]
    }
   ],
   "source": [
    "counter3 = 0\n",
    "counter4 = 0\n",
    "for i in range(len(randomNumber)): #here we go throug the list\n",
    "    if randomNumber[i] == 3: #here we check if the list item is equal to 3\n",
    "        counter3 = counter3 + 1 #if it is equal to 3 we count 1\n",
    "    elif randomNumber[i] == 4:\n",
    "        counter4 += 1 \n",
    "\n",
    "print(\"we have \" + str(counter3) + \" number 3\") \n",
    "print(\"we have \" + str(counter4) + \" number 4\") \n",
    "#we print how many we have. I cast counter to string, since I just cant print strings"
   ]
  },
  {
   "cell_type": "markdown",
   "id": "c0dc6d48",
   "metadata": {},
   "source": [
    "Correct! we have 2 number 3 and 2 number 4 in the list!!\n",
    "\n",
    "- 1.3.4. Which is the highest number of the list? "
   ]
  },
  {
   "cell_type": "code",
   "execution_count": 83,
   "id": "448e8733",
   "metadata": {},
   "outputs": [
    {
     "name": "stdout",
     "output_type": "stream",
     "text": [
      "the highest number of the list is: 78\n"
     ]
    }
   ],
   "source": [
    "highestNum = max(randomNumber) #htere is a built-in function to check which is the highest number of the list\n",
    "print(\"the highest number of the list is: \" + str(highestNum))"
   ]
  },
  {
   "cell_type": "markdown",
   "id": "10877c05",
   "metadata": {},
   "source": [
    "We see that the highest number of the list is 78!!!</font>\n",
    "\n",
    "- 1.3.5. Which are the three smallest numbers of the list? \n",
    "\n",
    "    First I want to sort the list, in that case I will do it from smalles to highest number. Then I will extract the 3 first items"
   ]
  },
  {
   "cell_type": "code",
   "execution_count": 90,
   "id": "401bc6fd",
   "metadata": {},
   "outputs": [
    {
     "name": "stdout",
     "output_type": "stream",
     "text": [
      "[1, 2, 3, 3, 4, 4, 5, 5, 7, 10, 10, 12, 12, 12, 12, 24, 24, 34, 34, 61, 61, 78, 78]\n",
      "[1, 2, 3]\n"
     ]
    }
   ],
   "source": [
    "sortedList = randomNumber.copy() #here I copy the list to keep untoched the first one\n",
    "sortedList.sort() #I sort the copied list aascending allphanumerically\n",
    "print(sortedList) #I print the sorted list so I can see it is sorted\n",
    "print(sortedList[:3]) #I print the range of numbers from the beggining to 3 itme"
   ]
  },
  {
   "cell_type": "markdown",
   "id": "2cb8e349",
   "metadata": {},
   "source": [
    "We see that the smallest numbers of the list are, 1, 2 and 3!!!\n",
    "\n",
    "- 1.3.6. Which is the list range?\n",
    "\n",
    "    The **range** of a matrix/list can be defined as the **difference between the maximum and minimum among the elements of the matrix**. In NumPy, we have provided with an inbuilt function for this operation i.e. numpy.ptp(). It returns the range of the matrix by calculating maximum-minimum.\n",
    "    \n",
    "    I Will first do it manually and secondly using the built-in function of NumPy, importing it and so on\n",
    "       "
   ]
  },
  {
   "cell_type": "code",
   "execution_count": 93,
   "id": "bcb905b8",
   "metadata": {},
   "outputs": [
    {
     "name": "stdout",
     "output_type": "stream",
     "text": [
      "The highest number of the list is: 78\n",
      "The smallest number of the list is: 1\n",
      "The range of the list is: 77\n"
     ]
    }
   ],
   "source": [
    "highestNum = max(randomNumber)\n",
    "smallestNum = min(randomNumber)\n",
    "print(\"The highest number of the list is: \" + str(highestNum) + \"\\nThe smallest number of the list is: \" + str(smallestNum))\n",
    "\n",
    "listRange = highestNum - smallestNum\n",
    "print(\"The range of the list is: \" + str(listRange))"
   ]
  },
  {
   "cell_type": "markdown",
   "id": "5d6f8362",
   "metadata": {},
   "source": [
    "Here I calculated the range of the list manually\n",
    "\n",
    "now I will try with the built-in function\n",
    "Since a list is a matrix of 1 row with len(list) columns, we can calculate already the range of it"
   ]
  },
  {
   "cell_type": "code",
   "execution_count": 96,
   "id": "c4487906",
   "metadata": {},
   "outputs": [
    {
     "name": "stdout",
     "output_type": "stream",
     "text": [
      "[1, 2, 3, 3, 4, 4, 5, 5, 7, 10, 10, 12, 12, 12, 12, 24, 24, 34, 34, 61, 61, 78, 78]\n",
      "The range of the list is:  77\n",
      "Matrix A:  [ 1  2  3  3  4  4  5  5  7 10 10 12 12 12 12 24 24 34 34 61 61 78 78]\n",
      "The range of the list is:  77\n"
     ]
    }
   ],
   "source": [
    "import numpy as np #importing NumPy libary to use the built in function to clculate the range of a matrix\n",
    "\n",
    "\n",
    "print(randomNumber)\n",
    "print(\"The range of the list is: \", np.ptp(randomNumber))\n",
    "\n",
    "\n",
    "#Creating an array list from a list\n",
    "a = np.array(randomNumber)\n",
    "print (\"Matrix A: \", a)\n",
    "\n",
    "#Calculating the Range\n",
    "matrixRange = np.ptp(a)\n",
    "\n",
    "print(\"The range of the list is: \", matrixRange)\n",
    "\n"
   ]
  },
  {
   "cell_type": "markdown",
   "id": "995500ae",
   "metadata": {},
   "source": [
    "In the web, I've see that they fists convert it to an array with the same numpy library. Not really sure why...maybe it allocates les memory?"
   ]
  },
  {
   "cell_type": "markdown",
   "id": "aedf80cb",
   "metadata": {},
   "source": [
    "### 1.4 **_Exercice 4_**  \n",
    "Creat A dicctionary like this:  \n",
    "compra = { \"Pomes\" : {\"Qty\": 5, \"€\": 0.42}, \"Peres\" : {\"Qty\": 3, \"€\": 0.66} }  \n",
    "   - 1.4.1. Add some more fruits  \n",
    "   I want to creat a nested dictionary\n",
    "   Then I add some more itmes with the function update() or just assigning a new key and giveng the values\n",
    "   "
   ]
  },
  {
   "cell_type": "code",
   "execution_count": 100,
   "id": "8b57eaef",
   "metadata": {},
   "outputs": [
    {
     "name": "stdout",
     "output_type": "stream",
     "text": [
      "{'Appels': {'Qty': 5, '€': 0.42}, 'Pears': {'Qty': 3, '€': 0.66}}\n",
      "{'Appels': {'Qty': 5, '€': 0.42}, 'Pears': {'Qty': 3, '€': 0.66}, 'Bananas': {'Qty': 4, '€': 0.34}, 'Strwaberries': {'Qty': 1, '€': 3.3}}\n"
     ]
    }
   ],
   "source": [
    "shoppingList = {\n",
    "  \"Appels\": {\"Qty\":5, \"€\": 0.42},\n",
    "  \"Pears\": {\"Qty\": 3, \"€\": 0.66}}\n",
    "print(shoppingList)\n",
    "\n",
    "#Two whys to add itmes in the dictionary\n",
    "shoppingList[\"Bananas\"] = {\"Qty\": 4, \"€\": 0.34}\n",
    "shoppingList.update({\"Strwaberries\":{\"Qty\":1,\"€\":3.3}})\n",
    "\n",
    "print(shoppingList)\n"
   ]
  },
  {
   "cell_type": "markdown",
   "id": "adbaa2f1",
   "metadata": {},
   "source": [
    "We can see how I created the nested dictionaries, with the fruits as key and its quantity and price as a value.  \n",
    "Then I adde two more fruits in 2 different ways!!\n",
    "\n",
    "- 1.4.2. How much have cost the pears in total?  \n",
    "   I will get the values of the key pears put them in variables and them add them\n",
    "   "
   ]
  },
  {
   "cell_type": "code",
   "execution_count": 111,
   "id": "37939656",
   "metadata": {},
   "outputs": [
    {
     "name": "stdout",
     "output_type": "stream",
     "text": [
      "{'Qty': 3, '€': 0.66}\n",
      "3\n",
      "0.66\n",
      "The cost of the 3 is 1.98\n"
     ]
    }
   ],
   "source": [
    "pearsQtyPrice = shoppingList[\"Pears\"]\n",
    "pearsQty = shoppingList.get(\"Pears\").get(\"Qty\")\n",
    "pearsPrice = shoppingList.get(\"Pears\").get(\"€\")\n",
    "print(pearsQtyPrice)\n",
    "print(pearsQty)\n",
    "print(pearsPrice)\n",
    "\n",
    "totalCoastpears = pearsQty * pearsPrice\n",
    "print(\"The cost of the \" + str(pearsQty) + \" is \" + str(totalCoastpears))"
   ]
  },
  {
   "cell_type": "markdown",
   "id": "95290f70",
   "metadata": {},
   "source": [
    "I've extracted the quantity and price of each pear and calculated the total price! :)\n",
    "\n",
    "- 1.4.3. How many fruts have we bought in total?  \n"
   ]
  },
  {
   "cell_type": "code",
   "execution_count": 119,
   "id": "61608d44",
   "metadata": {},
   "outputs": [
    {
     "name": "stdout",
     "output_type": "stream",
     "text": [
      "Appels\n",
      "Pears\n",
      "Bananas\n",
      "Strwaberries\n",
      "13\n",
      "{'Appels': {'Qty': 5, '€': 0.42}, 'Pears': {'Qty': 3, '€': 0.66}, 'Bananas': {'Qty': 4, '€': 0.34}, 'Strwaberries': {'Qty': 1, '€': 3.3}}\n"
     ]
    }
   ],
   "source": [
    "counter = 0\n",
    "for x in shoppingList:\n",
    "    print(x)\n",
    "    #print(shoppingList[x])\n",
    "    fruitsNum = shoppingList.get(x).get(\"Qty\")\n",
    "    counter = counter + fruitsNum\n",
    "print(counter)\n",
    "print(shoppingList)\n"
   ]
  },
  {
   "cell_type": "markdown",
   "id": "597fa88a",
   "metadata": {},
   "source": [
    "I've combined searching inside each item of the dictionary key with a foor loop and getting the values of the nested quantity dictionaries. Then adding them to a counter of items :)\n",
    "\n",
    "- 1.4.4. Which is the most expensive fruit?   \n",
    "\n",
    "    1- I want to creat a list with all the prices\n",
    "    \n",
    "    2- Then I get the maximum value and its index\n",
    "    \n",
    "    3- I get the keys and put them in a list, because if not I cannot acces with the index!\n",
    "    \n",
    "    4- finally I use this index to get the key with the same index    "
   ]
  },
  {
   "cell_type": "code",
   "execution_count": 148,
   "id": "38891a49",
   "metadata": {},
   "outputs": [
    {
     "name": "stdout",
     "output_type": "stream",
     "text": [
      "Appels\n",
      "Pears\n",
      "Bananas\n",
      "Strwaberries\n",
      "[0.42, 0.66, 0.34, 3.3]\n",
      "3\n",
      "Strwaberries\n"
     ]
    }
   ],
   "source": [
    "\n",
    "listOfPrices = [] #I creat an empty list for all prices\n",
    "for x in shoppingList: #loo throug the list\n",
    "    print(x)\n",
    "    prices = shoppingList.get(x).get(\"€\") #I put in the variable each price I get from each fruit\n",
    "    listOfPrices.append(prices)#and put this price in the list\n",
    "    \n",
    "print(listOfPrices)#just to check if the list is correct I print it\n",
    "maxPriceIndex = listOfPrices.index(max(listOfPrices))\n",
    "print(maxPriceIndex)\n",
    "listOfKeys = list(shoppingList.keys()) #I need a list of keys to be able to get by index\n",
    "print(listOfKeys[maxPriceIndex])#I get the item of the list I have the index of maximum price\n"
   ]
  },
  {
   "cell_type": "markdown",
   "id": "96d243ca",
   "metadata": {},
   "source": [
    "Another way to do so would be with defining a function\n",
    "I could define a function that gets a dictionary creats a list of values anfd a list of keys and then gets the maximum key for a value. \n",
    "\n",
    "a way of doing it I found it in stackoverflow\n",
    "\n",
    "definde a method to give you the key with the maxiumum value\n",
    "\n",
    "def keywithmaxval(d):  \n",
    "      a) create a list of the dict's keys and values;   \n",
    "         b) return the key with the max value    \n",
    "     v=list(d.values())  \n",
    "     k=list(d.keys())  \n",
    "     return k\\[v.index(max(v))\\]  "
   ]
  },
  {
   "cell_type": "code",
   "execution_count": null,
   "id": "cc141a67",
   "metadata": {},
   "outputs": [],
   "source": []
  }
 ],
 "metadata": {
  "kernelspec": {
   "display_name": "Python 3",
   "language": "python",
   "name": "python3"
  },
  "language_info": {
   "codemirror_mode": {
    "name": "ipython",
    "version": 3
   },
   "file_extension": ".py",
   "mimetype": "text/x-python",
   "name": "python",
   "nbconvert_exporter": "python",
   "pygments_lexer": "ipython3",
   "version": "3.8.8"
  }
 },
 "nbformat": 4,
 "nbformat_minor": 5
}
