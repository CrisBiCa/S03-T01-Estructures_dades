{
 "cells": [
  {
   "cell_type": "markdown",
   "id": "00552ca0",
   "metadata": {},
   "source": [
    "# SPRINT 3 - COLLECTIONS PRACTICE\n",
    "\n",
    "In this file I will practice all related with the different collection types in Python like **lists**, **sets**, **tuples** and **dictionaries**\n",
    "\n",
    "Lets start!! \n",
    "\n",
    "## Lists\n",
    " These are collections ordered & changable, and allows duplicate itmes. What does that mean:  \n",
    " - **ORDERED:** When we say that lists are ordered, it means that the items have a defined order, and that order will not change. If you add new items to a list, the new items will be placed at the end of the list.  \n",
    " - **CHANGEABLE:** The list is changeable, meaning that we can change, add, and remove items in a list after it has been created.  \n",
    " - **ALLOW DUPLICATES:** Since lists are indexed, lists can have items with the same value. "
   ]
  },
  {
   "cell_type": "markdown",
   "id": "a8b8ea47",
   "metadata": {},
   "source": [
    "List creation and assignation is with \\[ \\] square brakets"
   ]
  },
  {
   "cell_type": "code",
   "execution_count": 4,
   "id": "a1033f86",
   "metadata": {},
   "outputs": [
    {
     "name": "stdout",
     "output_type": "stream",
     "text": [
      "['apple', 'banana', 'strawberry', 'raspberry']\n"
     ]
    }
   ],
   "source": [
    "myList = [\"apple\", \"banana\", \"strawberry\", \"raspberry\"]  # creation and assignation of the list\n",
    "print(myList)"
   ]
  },
  {
   "cell_type": "markdown",
   "id": "47d7461e-582e-4290-910e-f30d6dc2a5be",
   "metadata": {},
   "source": [
    "- **Length of the list**"
   ]
  },
  {
   "cell_type": "code",
   "execution_count": 2,
   "id": "538677b6",
   "metadata": {},
   "outputs": [
    {
     "name": "stdout",
     "output_type": "stream",
     "text": [
      "4\n"
     ]
    }
   ],
   "source": [
    "print(len(myList)) #List length, so number of items"
   ]
  },
  {
   "cell_type": "markdown",
   "id": "b6d189ba",
   "metadata": {},
   "source": [
    "- **List items can be of any data type**"
   ]
  },
  {
   "cell_type": "code",
   "execution_count": 7,
   "id": "f87f08f4",
   "metadata": {},
   "outputs": [
    {
     "name": "stdout",
     "output_type": "stream",
     "text": [
      "['I eat', 25, 'strawberry', ['I', 'love', 'them!!']]\n",
      "4\n",
      "<class 'str'>\n",
      "<class 'int'>\n",
      "<class 'str'>\n",
      "<class 'list'>\n"
     ]
    }
   ],
   "source": [
    "my2ndList = [\"I eat\", 25, \"strawberry\", [\"I\", \"love\", \"them!!\"]] # List items can be of any data type\n",
    "print(my2ndList)\n",
    "print(len(my2ndList))\n",
    "\n",
    "for i in range(len(my2ndList)): #I used a for loop to go through all list itmes and print its type!\n",
    "    print(type(my2ndList[i]))\n"
   ]
  },
  {
   "cell_type": "markdown",
   "id": "ceaab897",
   "metadata": {},
   "source": [
    "- **append(), insert(), extend()**\n",
    "    To append elements at the end of the list\n",
    "    The insert() method inserts an item at the specified index:\n",
    "    To append elements from another list to the current list, use the extend() method."
   ]
  },
  {
   "cell_type": "code",
   "execution_count": 18,
   "id": "cf3df67a",
   "metadata": {},
   "outputs": [
    {
     "name": "stdout",
     "output_type": "stream",
     "text": [
      "['I eat', 25, 'strawberry', ['I', 'love', 'them!!'], ['iujju', 'iujju', 'apple', 'banana', 'strawberry', 'raspberry'], ['iujju', 'iujju', 'apple', 'banana', 'strawberry', 'raspberry'], 'iujju']\n"
     ]
    }
   ],
   "source": [
    "my2ndList.append(\"iujju\")\n",
    "print(my2ndList)"
   ]
  },
  {
   "cell_type": "code",
   "execution_count": 19,
   "id": "8264c18b",
   "metadata": {},
   "outputs": [
    {
     "name": "stdout",
     "output_type": "stream",
     "text": [
      "['iujju', 'iujju', 'iujju', 'apple', 'banana', 'strawberry', 'raspberry']\n"
     ]
    }
   ],
   "source": [
    "myList.insert(0, \"iujju\") #I have inserted the secon elemnt i position 0\n",
    "print(myList)"
   ]
  },
  {
   "cell_type": "code",
   "execution_count": 20,
   "id": "30dc96a8",
   "metadata": {},
   "outputs": [
    {
     "name": "stdout",
     "output_type": "stream",
     "text": [
      "['I eat', 25, 'strawberry', ['I', 'love', 'them!!'], ['iujju', 'iujju', 'iujju', 'apple', 'banana', 'strawberry', 'raspberry'], ['iujju', 'iujju', 'iujju', 'apple', 'banana', 'strawberry', 'raspberry'], 'iujju', ['iujju', 'iujju', 'iujju', 'apple', 'banana', 'strawberry', 'raspberry']]\n"
     ]
    }
   ],
   "source": [
    "my3rdList = my2ndList\n",
    "my3rdList.append(myList)\n",
    "print(my3rdList)"
   ]
  },
  {
   "cell_type": "markdown",
   "id": "c755f4a7",
   "metadata": {},
   "source": [
    "- **remove(), pop(), del, clear()**  \n",
    "    The remove() method removes the specified item.  \n",
    "    The pop() method removes the specified index.  \n",
    "    The del keyword also removes the specified index \n",
    "    he clear() method empties the list.    "
   ]
  },
  {
   "cell_type": "code",
   "execution_count": 21,
   "id": "4a4ea057",
   "metadata": {},
   "outputs": [
    {
     "name": "stdout",
     "output_type": "stream",
     "text": [
      "['I eat', 25, 'strawberry', ['I', 'love', 'them!!'], ['iujju', 'iujju', 'iujju', 'apple', 'banana', 'strawberry', 'raspberry'], ['iujju', 'iujju', 'iujju', 'apple', 'banana', 'strawberry', 'raspberry'], ['iujju', 'iujju', 'iujju', 'apple', 'banana', 'strawberry', 'raspberry']]\n"
     ]
    }
   ],
   "source": [
    "my3rdList.remove(\"iujju\")\n",
    "print(my3rdList)"
   ]
  },
  {
   "cell_type": "code",
   "execution_count": 22,
   "id": "c66e6708",
   "metadata": {},
   "outputs": [
    {
     "name": "stdout",
     "output_type": "stream",
     "text": [
      "['I eat', 25, 'strawberry', ['I', 'love', 'them!!'], ['iujju', 'iujju', 'iujju', 'apple', 'banana', 'strawberry', 'raspberry'], ['iujju', 'iujju', 'iujju', 'apple', 'banana', 'strawberry', 'raspberry']]\n"
     ]
    }
   ],
   "source": [
    "my3rdList.remove(myList)\n",
    "print(my3rdList) #I wanted to remove one of the elements, but I supose it needs to be the same"
   ]
  },
  {
   "cell_type": "code",
   "execution_count": 23,
   "id": "9d8144cc",
   "metadata": {},
   "outputs": [
    {
     "name": "stdout",
     "output_type": "stream",
     "text": [
      "['I eat', 25, 'strawberry', ['I', 'love', 'them!!'], ['iujju', 'iujju', 'iujju', 'apple', 'banana', 'strawberry', 'raspberry']]\n"
     ]
    }
   ],
   "source": [
    "my3rdList.pop()\n",
    "print(my3rdList)"
   ]
  },
  {
   "cell_type": "code",
   "execution_count": 24,
   "id": "ef1ef5b7",
   "metadata": {},
   "outputs": [
    {
     "name": "stdout",
     "output_type": "stream",
     "text": [
      "['I eat', 'strawberry', ['I', 'love', 'them!!'], ['iujju', 'iujju', 'iujju', 'apple', 'banana', 'strawberry', 'raspberry']]\n"
     ]
    }
   ],
   "source": [
    "my3rdList.pop(1)\n",
    "print(my3rdList)"
   ]
  },
  {
   "cell_type": "code",
   "execution_count": 25,
   "id": "b7087e17",
   "metadata": {},
   "outputs": [
    {
     "name": "stdout",
     "output_type": "stream",
     "text": [
      "['I eat', 50, 'strawberry', ['I', 'love', 'them!!'], ['iujju', 'iujju', 'iujju', 'apple', 'banana', 'strawberry', 'raspberry']]\n"
     ]
    }
   ],
   "source": [
    "my3rdList.insert(1, 50)\n",
    "print(my3rdList)"
   ]
  },
  {
   "cell_type": "code",
   "execution_count": 26,
   "id": "2e9b7e18",
   "metadata": {},
   "outputs": [
    {
     "name": "stdout",
     "output_type": "stream",
     "text": [
      "['I eat', 'strawberry', ['I', 'love', 'them!!'], ['iujju', 'iujju', 'iujju', 'apple', 'banana', 'strawberry', 'raspberry']]\n"
     ]
    }
   ],
   "source": [
    "del my3rdList[1]\n",
    "print(my3rdList)"
   ]
  },
  {
   "cell_type": "code",
   "execution_count": 27,
   "id": "101b7b6a",
   "metadata": {},
   "outputs": [
    {
     "name": "stdout",
     "output_type": "stream",
     "text": [
      "['I eat', 60, 'strawberry', ['I', 'love', 'them!!'], ['iujju', 'iujju', 'iujju', 'apple', 'banana', 'strawberry', 'raspberry']]\n"
     ]
    }
   ],
   "source": [
    "my3rdList.insert(1, 60)\n",
    "print(my3rdList)"
   ]
  },
  {
   "cell_type": "code",
   "execution_count": 28,
   "id": "0ede7d10",
   "metadata": {},
   "outputs": [
    {
     "name": "stdout",
     "output_type": "stream",
     "text": [
      "['iujju', 'iujju', 'iujju', 'apple', 'banana', 'strawberry', 'raspberry']\n",
      "[]\n"
     ]
    }
   ],
   "source": [
    "print(myList)\n",
    "myList.clear()\n",
    "print(myList)"
   ]
  },
  {
   "cell_type": "markdown",
   "id": "754585b4",
   "metadata": {},
   "source": [
    "- **Sort Lists**\n",
    "    - List objects have a **sort()** method that will sort the list alphanumerically, ascending, by default:  \n",
    "    - To **sort descending**, use the keyword argument reverse = True  \n",
    "    - **Case Insensitive Sort**  \n",
    "         By default the sort() method is case sensitive, resulting in all capital letters being sorted before lower case letters:  \n",
    "    - **Reverse Order**  \n",
    "        What if you want to reverse the order of a list, regardless of the alphabet?  \n",
    "        The reverse() method reverses the current sorting order of the elements.  \n",
    "    - **Customize Sort Function**    \n",
    "        You can also customize your own function by using the keyword argument key = function.  \n",
    "        The function will return a number that will be used to sort the list (the lowest number first):  "
   ]
  },
  {
   "cell_type": "code",
   "execution_count": 29,
   "id": "613f5101",
   "metadata": {},
   "outputs": [
    {
     "name": "stdout",
     "output_type": "stream",
     "text": [
      "['appels', 'carrots', 'chicken', 'potatos', 'salad', 'yougurt']\n"
     ]
    }
   ],
   "source": [
    "my4rdList = [\"potatos\", \"carrots\", \"chicken\", \"salad\", \"appels\", \"yougurt\"]\n",
    "my4rdList.sort() # alphanumerically!!\n",
    "print(my4rdList)"
   ]
  },
  {
   "cell_type": "code",
   "execution_count": 30,
   "id": "be5983b9",
   "metadata": {},
   "outputs": [
    {
     "name": "stdout",
     "output_type": "stream",
     "text": [
      "['yougurt', 'salad', 'potatos', 'chicken', 'carrots', 'appels']\n"
     ]
    }
   ],
   "source": [
    "my4rdList.sort(reverse = True) # sorting descending alphanumerically\n",
    "print(my4rdList)"
   ]
  },
  {
   "cell_type": "code",
   "execution_count": 33,
   "id": "e399f690",
   "metadata": {},
   "outputs": [
    {
     "name": "stdout",
     "output_type": "stream",
     "text": [
      "['appels', 'carrots', 'chicken', 'potatos', 'salad', 'yougurt']\n"
     ]
    }
   ],
   "source": [
    "my4rdList.reverse() # reverse the list again!\n",
    "print(my4rdList)"
   ]
  },
  {
   "cell_type": "code",
   "execution_count": 34,
   "id": "8cf8a40e",
   "metadata": {},
   "outputs": [
    {
     "name": "stdout",
     "output_type": "stream",
     "text": [
      "[40, 35, 32, 25, 78, 2]\n"
     ]
    }
   ],
   "source": [
    "def myFunction2Sort(n): #The function will return a number that will be used to sort the list (the lowest number first):\n",
    "    return abs(n-50) #Sort the list based on how close the number is to 50:\n",
    "\n",
    "myNewestList = [25, 40, 32, 2, 35, 78]\n",
    "myNewestList.sort(key = myFunction2Sort)\n",
    "print(myNewestList)"
   ]
  },
  {
   "cell_type": "markdown",
   "id": "fe6d65a4",
   "metadata": {},
   "source": [
    "- **Copy Lists**\n",
    "    - You cannot copy a list simply by typing list2 = list1, because: list2 will only be a reference to list1, and changes made in list1 will automatically also be made in list2.  \n",
    "    - There are ways to make a copy, one way is to use the built-in List method **copy()**.  \n",
    "    - Another way to make a copy is to use the built-in method **list()**. (--> the constructor of the class List!!)    "
   ]
  },
  {
   "cell_type": "code",
   "execution_count": 37,
   "id": "2706ec94",
   "metadata": {},
   "outputs": [
    {
     "name": "stdout",
     "output_type": "stream",
     "text": [
      "[25, 40, 32, 2, 35, 78]\n"
     ]
    }
   ],
   "source": [
    "my4thList = [25, 40, 32, 2, 35, 78]\n",
    "my5thList = my4thList.copy()\n",
    "print(my5thList)"
   ]
  },
  {
   "cell_type": "code",
   "execution_count": 39,
   "id": "929631f3",
   "metadata": {},
   "outputs": [
    {
     "name": "stdout",
     "output_type": "stream",
     "text": [
      "[25, 35, 78]\n"
     ]
    }
   ],
   "source": [
    "my6thList = [25, 35, 78]\n",
    "my7thList = list(my6thList)\n",
    "print(my7thList)"
   ]
  },
  {
   "cell_type": "markdown",
   "id": "65dd4cf3",
   "metadata": {},
   "source": [
    "- **Loop Through a List**\n",
    "    - You can loop **through the list items** by using a **for loop**:  \n",
    "    - Loop **Through the Index Numbers**  \n",
    "       - You can also loop through the list items by referring to their index number.  \n",
    "       - Use the **range()** and **len()** functions to create a suitable iterable."
   ]
  },
  {
   "cell_type": "code",
   "execution_count": 40,
   "id": "1fafc981",
   "metadata": {},
   "outputs": [
    {
     "name": "stdout",
     "output_type": "stream",
     "text": [
      "I\n",
      "love\n",
      "strawberrys\n",
      "!!!\n"
     ]
    }
   ],
   "source": [
    "myLastList = [\"I\", \"love\", \"strawberrys\", \"!!!\"]\n",
    "for i in myLastList:\n",
    "    print(i)"
   ]
  },
  {
   "cell_type": "code",
   "execution_count": 42,
   "id": "d1022a03",
   "metadata": {},
   "outputs": [
    {
     "name": "stdout",
     "output_type": "stream",
     "text": [
      "I\n",
      "really\n",
      "really\n",
      "love\n",
      "strawberrys\n",
      "!!!\n"
     ]
    }
   ],
   "source": [
    "myLastList = [\"I\",\"really\", \"really\", \"love\", \"strawberrys\", \"!!!\"]\n",
    "for i in range(len(myLastList)):\n",
    "    print(myLastList[i])"
   ]
  },
  {
   "cell_type": "markdown",
   "id": "211d9834",
   "metadata": {},
   "source": [
    "\n",
    "## Tupels\n",
    " A tuple is a collection which is **ordered**, **unchangeable** and **allow duplicate values**. What does that mean:  \n",
    " - **ORDERED:** When we say that tuples are ordered, it means that the items have a defined order, and that order will not change. If you add new items to a tuple, the new items will be placed at the end of the tuple.  \n",
    " - **UNCHANGEABLE:** Tuples are unchangeable, meaning that we cannot change, add or remove items after the tuple has been created.  \n",
    " - **ALLOW DUPLICATES:** Since tuples are indexed, they can have items with the same value. \n",
    " - Tuples are written with **\\( \\) round brackets**.\n",
    " - It is also possible to use the **tuple() constructor** to make a tuple.\n",
    " - To create a tuple with only one item, you have to add a comma after the item, otherwise Python will not recognize it as a tuple.\n",
    " - Tuple items can be of **any data type**:"
   ]
  },
  {
   "cell_type": "code",
   "execution_count": 43,
   "id": "48940235",
   "metadata": {},
   "outputs": [
    {
     "name": "stdout",
     "output_type": "stream",
     "text": [
      "6\n"
     ]
    }
   ],
   "source": [
    "thisISaTuple = (\"strawberry\", \"raspberry\", \"blueberry\", \"orangeberry\", \"blackberry\", \"cranberry\")\n",
    "print(len(thisISaTuple)) #methods similar to lists, len is for length of the tuple"
   ]
  },
  {
   "cell_type": "code",
   "execution_count": 45,
   "id": "7e3e1b6c",
   "metadata": {},
   "outputs": [
    {
     "name": "stdout",
     "output_type": "stream",
     "text": [
      "<class 'tuple'>\n",
      "<class 'tuple'>\n"
     ]
    }
   ],
   "source": [
    "thisISaNotherTuple = (\"strawberry\",) \n",
    "\n",
    "#just with one item you need a coma at the end!! otherwise Python will not recognize it as a tuple\n",
    "print(type(thisISaNotherTuple))\n",
    "thisIsNOTaTuple = (\"strawberry\") #this shouldn't be a tupple but it IS...no Idea why...but maybe is Python version? 🤔\n",
    "print(type(thisISaNotherTuple))"
   ]
  },
  {
   "cell_type": "markdown",
   "id": "2e20af99",
   "metadata": {},
   "source": [
    "- Accessing tuples:"
   ]
  },
  {
   "cell_type": "code",
   "execution_count": 48,
   "id": "df375c67",
   "metadata": {},
   "outputs": [
    {
     "name": "stdout",
     "output_type": "stream",
     "text": [
      "('strawberry', 'raspberry', 'blueberry', 'orangeberry', 'blackberry', 'cranberry')\n",
      "orangeberry\n",
      "blackberry\n"
     ]
    }
   ],
   "source": [
    "print(thisISaTuple)\n",
    "print(thisISaTuple[3])\n",
    "\n",
    "print(thisISaTuple[-2]) #Negative indexing means start from the end."
   ]
  },
  {
   "cell_type": "markdown",
   "id": "af26fcec",
   "metadata": {},
   "source": [
    "Range of Indexes\n",
    "You can specify a range of indexes by specifying where to start and where to end the range.\n",
    "\n",
    "When specifying a range, the return value will be a new tuple with the specified items.\n",
    "\n",
    "Example\n",
    "Return the third, fourth, and fifth item:"
   ]
  },
  {
   "cell_type": "code",
   "execution_count": 49,
   "id": "9c7be063",
   "metadata": {},
   "outputs": [
    {
     "name": "stdout",
     "output_type": "stream",
     "text": [
      "('cherry', 'orange', 'kiwi')\n"
     ]
    }
   ],
   "source": [
    "thistuple = (\"apple\", \"banana\", \"cherry\", \"orange\", \"kiwi\", \"melon\", \"mango\")\n",
    "print(thistuple[2:5])"
   ]
  },
  {
   "cell_type": "markdown",
   "id": "54aaf13d",
   "metadata": {},
   "source": [
    "**Change Tuple Values**\n",
    "Once a tuple is created, you cannot change its values. Tuples are unchangeable, or immutable as it also is called.  \n",
    "But there is a workaround. You can convert the tuple into a list, change the list, and convert the list back into a tuple."
   ]
  },
  {
   "cell_type": "code",
   "execution_count": 50,
   "id": "b0604cd7",
   "metadata": {},
   "outputs": [
    {
     "name": "stdout",
     "output_type": "stream",
     "text": [
      "('apple', 'kiwi', 'cherry')\n"
     ]
    }
   ],
   "source": [
    "x = (\"apple\", \"banana\", \"cherry\")\n",
    "y = list(x)\n",
    "y[1] = \"kiwi\"\n",
    "x = tuple(y)\n",
    "\n",
    "print(x)"
   ]
  },
  {
   "cell_type": "markdown",
   "id": "9774da67",
   "metadata": {},
   "source": [
    "\n",
    "## Sets\n",
    " A set is a collection which is **unordered**, **unindexed**, **unchangeable**, and **do not allow duplicate** values. What does that mean:  \n",
    " - **UNORDERED:** Unordered means that the items in a set do not have a defined order.Set items can appear in a different order every time you use them, and cannot be referred to by index or key. \n",
    " - **UNCHANGEABLE:** Sets are unchangeable, meaning that we cannot change the items after the set has been created. Once a set is created, you cannot change its items, but you can add new items.  \n",
    " - **DO NOT ALLOW DUPLICATES:** Since sets are UNindexed, they CANNOT have items with the same value. \n",
    " - Tuples are written with **\\{ \\} curly brackets**.\n",
    " - It is also possible to use the **set() constructor** to make a tuple.\n"
   ]
  },
  {
   "cell_type": "markdown",
   "id": "0608093b",
   "metadata": {},
   "source": [
    "- Access Items:  \n",
    "    You cannot access items in a set by referring to an index or a key.  \n",
    "    But you can loop through the set items using a for loop, or ask if a specified value is present in a set, by using the in keyword."
   ]
  },
  {
   "cell_type": "code",
   "execution_count": 51,
   "id": "0ff1858d",
   "metadata": {},
   "outputs": [
    {
     "name": "stdout",
     "output_type": "stream",
     "text": [
      "apple\n",
      "banana\n",
      "cherry\n"
     ]
    }
   ],
   "source": [
    "thisset = {\"apple\", \"banana\", \"cherry\"}\n",
    "\n",
    "for x in thisset:\n",
    "  print(x)"
   ]
  },
  {
   "cell_type": "code",
   "execution_count": 52,
   "id": "dcc315b3",
   "metadata": {},
   "outputs": [
    {
     "name": "stdout",
     "output_type": "stream",
     "text": [
      "True\n"
     ]
    }
   ],
   "source": [
    "thisset = {\"I\", \"love\", \"strawberries\"}\n",
    "print(\"love\" in thisset)"
   ]
  },
  {
   "cell_type": "markdown",
   "id": "a4f36a33",
   "metadata": {},
   "source": [
    "- Add Items:  \n",
    "    Once a set is created, you cannot change its items, but you can add new items.  \n",
    "    To add one item to a set use the add() method."
   ]
  },
  {
   "cell_type": "code",
   "execution_count": 54,
   "id": "4b7af99d",
   "metadata": {},
   "outputs": [
    {
     "name": "stdout",
     "output_type": "stream",
     "text": [
      "{'strawberries', 'very much', 'love', 'I'}\n"
     ]
    }
   ],
   "source": [
    "thisset = {\"I\", \"love\", \"strawberries\"}\n",
    "\n",
    "thisset.add(\"very much\")\n",
    "\n",
    "print(thisset)\n"
   ]
  },
  {
   "cell_type": "markdown",
   "id": "8bf41e9f",
   "metadata": {},
   "source": [
    "- Add Sets:  \n",
    "    To add items from another set into the current set, use the update() method."
   ]
  },
  {
   "cell_type": "code",
   "execution_count": 55,
   "id": "5b6fc266",
   "metadata": {},
   "outputs": [
    {
     "name": "stdout",
     "output_type": "stream",
     "text": [
      "{'mango', 'papaya', 'strawberries', 'pineapple', 'love', 'I'}\n"
     ]
    }
   ],
   "source": [
    "thisset = {\"I\", \"love\", \"strawberries\"}\n",
    "tropical = {\"pineapple\", \"mango\", \"papaya\"}\n",
    "\n",
    "thisset.update(tropical)\n",
    "\n",
    "print(thisset)\n"
   ]
  },
  {
   "cell_type": "markdown",
   "id": "34767c37",
   "metadata": {},
   "source": [
    "- Remove Item  \n",
    "    To remove an item in a set, use the remove(), or the discard() method."
   ]
  },
  {
   "cell_type": "markdown",
   "id": "d00f1795",
   "metadata": {},
   "source": [
    "--> there are more things to be checked in case of using sets...not sure when to use them or why!\n"
   ]
  },
  {
   "cell_type": "markdown",
   "id": "f6be14b3",
   "metadata": {},
   "source": [
    "## Dictionaries\n",
    " A set is a collection which is **ordered** (since Python version 3.6), **changeable**, and **do not allow duplicate** values. What does that mean:  \n",
    " - **ORDERED:** it means that the items have a defined order, and that order will not change. \n",
    " - **CHANGEABLE:** meaning that we can change, add or remove items after the dictionary has been created.  \n",
    " - **DO NOT ALLOW DUPLICATES:** Dictionaries cannot have two items with the same key:\n",
    " - Dictionaries are used to store data values in **key:value** pairs, and can be referred to by using the key name.\n",
    " - Dictionaries are written with **\\{ \\} curly brackets**, and have keys and values:"
   ]
  },
  {
   "cell_type": "code",
   "execution_count": 57,
   "id": "fa095c3b",
   "metadata": {},
   "outputs": [
    {
     "name": "stdout",
     "output_type": "stream",
     "text": [
      "{'brand': 'Ford', 'model': 'Mustang', 'year': 1964}\n"
     ]
    }
   ],
   "source": [
    "thisdict = {\n",
    "  \"brand\": \"Ford\",\n",
    "  \"model\": \"Mustang\",\n",
    "  \"year\": 1964\n",
    "}\n",
    "\n",
    "print(thisdict)"
   ]
  },
  {
   "cell_type": "markdown",
   "id": "664da5c8",
   "metadata": {},
   "source": [
    "- Accessing Items  \n",
    "    You can access the items of a dictionary by referring to its key name, inside square brackets:    \n",
    "    There is also a method called get() that will give you the same result:"
   ]
  },
  {
   "cell_type": "code",
   "execution_count": 58,
   "id": "34c9787f",
   "metadata": {},
   "outputs": [
    {
     "name": "stdout",
     "output_type": "stream",
     "text": [
      "Mustang\n"
     ]
    }
   ],
   "source": [
    "thisdict = {\n",
    "  \"brand\": \"Ford\",\n",
    "  \"model\": \"Mustang\",\n",
    "  \"year\": 1964\n",
    "}\n",
    "x = thisdict[\"model\"]\n",
    "print(x)"
   ]
  },
  {
   "cell_type": "code",
   "execution_count": 59,
   "id": "182d01d5",
   "metadata": {},
   "outputs": [
    {
     "name": "stdout",
     "output_type": "stream",
     "text": [
      "Mustang\n"
     ]
    }
   ],
   "source": [
    "x = thisdict.get(\"model\")\n",
    "print(x)"
   ]
  },
  {
   "cell_type": "markdown",
   "id": "c164a8cc",
   "metadata": {},
   "source": [
    "- **Get Keys**  \n",
    "    The keys() method will return a list of all the keys in the dictionary."
   ]
  },
  {
   "cell_type": "code",
   "execution_count": 60,
   "id": "64a5247f",
   "metadata": {},
   "outputs": [
    {
     "name": "stdout",
     "output_type": "stream",
     "text": [
      "dict_keys(['brand', 'model', 'year'])\n",
      "dict_keys(['brand', 'model', 'year', 'color'])\n"
     ]
    }
   ],
   "source": [
    "car = {\n",
    "\"brand\": \"Ford\",\n",
    "\"model\": \"Mustang\",\n",
    "\"year\": 1964\n",
    "}\n",
    "\n",
    "x = car.keys()\n",
    "\n",
    "print(x) #before the change\n",
    "\n",
    "car[\"color\"] = \"white\"\n",
    "\n",
    "print(x) #after the change\n"
   ]
  },
  {
   "cell_type": "markdown",
   "id": "cb365657",
   "metadata": {},
   "source": [
    "- **Get Values**:  \n",
    "    The values() method will return a list of all the values in the dictionary."
   ]
  },
  {
   "cell_type": "code",
   "execution_count": 61,
   "id": "df81ed57",
   "metadata": {},
   "outputs": [
    {
     "name": "stdout",
     "output_type": "stream",
     "text": [
      "dict_values(['Ford', 'Mustang', 1964])\n",
      "dict_values(['Ford', 'Mustang', 1964, 'red'])\n"
     ]
    }
   ],
   "source": [
    "car = {\n",
    "\"brand\": \"Ford\",\n",
    "\"model\": \"Mustang\",\n",
    "\"year\": 1964\n",
    "}\n",
    "\n",
    "x = car.values()\n",
    "\n",
    "print(x) #before the change\n",
    "\n",
    "car[\"color\"] = \"red\"\n",
    "\n",
    "print(x) #after the change\n"
   ]
  },
  {
   "cell_type": "markdown",
   "id": "a6dc395c",
   "metadata": {},
   "source": [
    "- **Nested Dictionaries:**  \n",
    "\n",
    "Creating a Nested Dictionaryas shown in the below image\n",
    "Dict = {1: 'Geeks', 2: 'For',\n",
    "        3:{'A' : 'Welcome', 'B' : 'To', 'C' : 'Geeks'}}\n",
    "\n",
    "<img src=\"Dictionary-Creation-1.jpg\">"
   ]
  },
  {
   "cell_type": "code",
   "execution_count": 2,
   "id": "250a8863",
   "metadata": {},
   "outputs": [
    {
     "name": "stdout",
     "output_type": "stream",
     "text": [
      "{1: 'Geeks', 2: 'For', 3: {'A': 'Welcome', 'B': 'To', 'C': 'Geeks'}}\n"
     ]
    }
   ],
   "source": [
    "# Creating a Nested Dictionary\n",
    "# as shown in the below image\n",
    "Dict = {1: 'Geeks', 2: 'For',\n",
    "        3:{'A' : 'Welcome', 'B' : 'To', 'C' : 'Geeks'}}\n",
    " \n",
    "print(Dict)"
   ]
  },
  {
   "cell_type": "code",
   "execution_count": null,
   "id": "3fe341a5",
   "metadata": {},
   "outputs": [],
   "source": []
  }
 ],
 "metadata": {
  "kernelspec": {
   "display_name": "Python 3",
   "language": "python",
   "name": "python3"
  },
  "language_info": {
   "codemirror_mode": {
    "name": "ipython",
    "version": 3
   },
   "file_extension": ".py",
   "mimetype": "text/x-python",
   "name": "python",
   "nbconvert_exporter": "python",
   "pygments_lexer": "ipython3",
   "version": "3.8.8"
  }
 },
 "nbformat": 4,
 "nbformat_minor": 5
}
